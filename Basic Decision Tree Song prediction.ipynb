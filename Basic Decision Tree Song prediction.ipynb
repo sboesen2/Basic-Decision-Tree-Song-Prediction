{
 "cells": [
  {
   "cell_type": "code",
   "execution_count": 185,
   "id": "55f9a35f-a4a7-445e-ade3-ca37a29c423c",
   "metadata": {},
   "outputs": [
    {
     "name": "stderr",
     "output_type": "stream",
     "text": [
      "C:\\Users\\14807\\anaconda3\\Lib\\site-packages\\sklearn\\base.py:439: UserWarning: X does not have valid feature names, but DecisionTreeClassifier was fitted with feature names\n",
      "  warnings.warn(\n"
     ]
    },
    {
     "data": {
      "text/plain": [
       "array(['HipHop'], dtype=object)"
      ]
     },
     "execution_count": 185,
     "metadata": {},
     "output_type": "execute_result"
    }
   ],
   "source": [
    "import pandas as pd\n",
    "from sklearn.tree import DecisionTreeClassifier\n",
    "# from sklearn import tree\n",
    "# from sklearn.model_selection import train_test_split\n",
    "# import joblib\n",
    "\n",
    "# from sklearn.metrics import accuracy_score\n",
    "\n",
    "music_data = pd.read_csv('Book1.csv')\n",
    "X = music_data.drop(columns=['genre'])\n",
    "y = music_data['genre']\n",
    "\n",
    "# X_train, X_test, y_train, y_test = train_test_split(X, y, test_size=0.2)\n",
    "\n",
    "model = DecisionTreeClassifier()\n",
    "model.fit(X, y)\n",
    "\n",
    "# tree.export_graphviz(model, out_file='music-predictor.dot',\n",
    "#                      feature_names=['age','gender'],\n",
    "#                      class_names=sorted(y.unique()),\n",
    "#                      label='all',\n",
    "#                      rounded=True,\n",
    "#                      filled=True)\n",
    "\n",
    "model = joblib.load('music-predictor.joblib')\n",
    "predictions = model.predict([[22, 1]])\n",
    "predictions\n",
    "\n",
    "\n"
   ]
  },
  {
   "cell_type": "code",
   "execution_count": null,
   "id": "c6b4d005-9ff2-429d-baf5-193e3df4e052",
   "metadata": {},
   "outputs": [],
   "source": []
  },
  {
   "cell_type": "code",
   "execution_count": null,
   "id": "d4e115a7-dd1d-48f7-80c7-78d1855f4861",
   "metadata": {},
   "outputs": [],
   "source": []
  },
  {
   "cell_type": "code",
   "execution_count": null,
   "id": "61de2baf-efe0-499d-b148-633457ef8aa9",
   "metadata": {},
   "outputs": [],
   "source": []
  },
  {
   "cell_type": "code",
   "execution_count": null,
   "id": "9ead2e44-c982-4dd6-b70b-8317326e65af",
   "metadata": {},
   "outputs": [],
   "source": []
  },
  {
   "cell_type": "code",
   "execution_count": null,
   "id": "db330d19-4e82-4f99-a0e0-7ffb8613627e",
   "metadata": {},
   "outputs": [],
   "source": []
  },
  {
   "cell_type": "code",
   "execution_count": null,
   "id": "7f68dd80-bcde-4000-b1f4-b14b02af6248",
   "metadata": {},
   "outputs": [],
   "source": []
  },
  {
   "cell_type": "code",
   "execution_count": null,
   "id": "54b72d1f-f9ce-4b1e-b2f9-952f9166c6e2",
   "metadata": {},
   "outputs": [],
   "source": []
  },
  {
   "cell_type": "code",
   "execution_count": null,
   "id": "b20b43ac-c714-45f1-b542-e0068381d550",
   "metadata": {},
   "outputs": [],
   "source": []
  },
  {
   "cell_type": "code",
   "execution_count": null,
   "id": "47b6efb1-5790-4ded-8e0a-5d0ae0f48c1d",
   "metadata": {},
   "outputs": [],
   "source": []
  }
 ],
 "metadata": {
  "kernelspec": {
   "display_name": "Python 3 (ipykernel)",
   "language": "python",
   "name": "python3"
  },
  "language_info": {
   "codemirror_mode": {
    "name": "ipython",
    "version": 3
   },
   "file_extension": ".py",
   "mimetype": "text/x-python",
   "name": "python",
   "nbconvert_exporter": "python",
   "pygments_lexer": "ipython3",
   "version": "3.11.7"
  }
 },
 "nbformat": 4,
 "nbformat_minor": 5
}
